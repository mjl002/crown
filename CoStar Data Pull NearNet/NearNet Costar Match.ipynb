{
 "cells": [
  {
   "cell_type": "code",
   "execution_count": 1,
   "id": "a5e4c080",
   "metadata": {},
   "outputs": [],
   "source": [
    "import pandas as pd\n",
    "import numpy as np\n",
    "import warnings\n",
    "warnings.simplefilter(action='ignore', category=FutureWarning)"
   ]
  },
  {
   "cell_type": "code",
   "execution_count": 2,
   "id": "a9a34084",
   "metadata": {},
   "outputs": [],
   "source": [
    "master = pd.DataFrame(columns = ['Company Name','Address','City','State','Zip',\n",
    "                                 'Ten_Phone','SF Occupied','Location','# Emp','Submarket',\n",
    "                                 'Industry Type','SIC Description'])\n",
    "\n",
    "df = pd.read_excel('List of NearNet.xlsx')"
   ]
  },
  {
   "cell_type": "code",
   "execution_count": 5,
   "id": "43f47cd4",
   "metadata": {
    "scrolled": true
   },
   "outputs": [],
   "source": [
    "df['Full Address'] = df['Address'] +' '+ df['City']"
   ]
  },
  {
   "cell_type": "code",
   "execution_count": 11,
   "id": "98b75f02",
   "metadata": {
    "scrolled": true
   },
   "outputs": [],
   "source": [
    "df = df.dropna(subset=['Address'])"
   ]
  },
  {
   "cell_type": "markdown",
   "id": "b3b24148",
   "metadata": {},
   "source": [
    "# Restart here"
   ]
  },
  {
   "cell_type": "code",
   "execution_count": 27,
   "id": "b633484f",
   "metadata": {},
   "outputs": [
    {
     "data": {
      "text/plain": [
       "0      30495 CANWOOD ST AGOURA HILLS\n",
       "1       30300 AGOURA RD AGOURA HILLS\n",
       "2       30101 AGOURA CT AGOURA HILLS\n",
       "3       30101 AGOURA CT AGOURA HILLS\n",
       "4       29439 AGOURA RD AGOURA HILLS\n",
       "                   ...              \n",
       "492     30200 AGOURA RD AGOURA HILLS\n",
       "493     29397 AGOURA RD AGOURA HILLS\n",
       "494     30601 AGOURA RD AGOURA HILLS\n",
       "495     30300 AGOURA RD AGOURA HILLS\n",
       "496    30423 CANWOOD ST AGOURA HILLS\n",
       "Length: 497, dtype: object"
      ]
     },
     "execution_count": 27,
     "metadata": {},
     "output_type": "execute_result"
    }
   ],
   "source": [
    "costar = pd.read_excel('a4.xlsx')\n",
    "#costar = costar.dropna(subset=['Zip'])\n",
    "#costar['Zip'] = costar['Zip'].astype(int)\n",
    "(costar['Address'] +' '+ costar['City'].map(str)).str.upper()\n"
   ]
  },
  {
   "cell_type": "code",
   "execution_count": 28,
   "id": "fb9e6f95",
   "metadata": {},
   "outputs": [
    {
     "name": "stdout",
     "output_type": "stream",
     "text": [
      "(4295, 30)\n",
      "Tenant data from this region:\n",
      "\n"
     ]
    },
    {
     "data": {
      "text/html": [
       "<div>\n",
       "<style scoped>\n",
       "    .dataframe tbody tr th:only-of-type {\n",
       "        vertical-align: middle;\n",
       "    }\n",
       "\n",
       "    .dataframe tbody tr th {\n",
       "        vertical-align: top;\n",
       "    }\n",
       "\n",
       "    .dataframe thead th {\n",
       "        text-align: right;\n",
       "    }\n",
       "</style>\n",
       "<table border=\"1\" class=\"dataframe\">\n",
       "  <thead>\n",
       "    <tr style=\"text-align: right;\">\n",
       "      <th></th>\n",
       "      <th>Company Name</th>\n",
       "      <th>Address</th>\n",
       "      <th>City</th>\n",
       "      <th>State</th>\n",
       "      <th>Zip</th>\n",
       "      <th>Ten_Phone</th>\n",
       "      <th>SF Occupied</th>\n",
       "      <th>Location</th>\n",
       "      <th># Emp</th>\n",
       "      <th>Submarket</th>\n",
       "      <th>Industry Type</th>\n",
       "      <th>SIC Description</th>\n",
       "    </tr>\n",
       "  </thead>\n",
       "  <tbody>\n",
       "  </tbody>\n",
       "</table>\n",
       "</div>"
      ],
      "text/plain": [
       "Empty DataFrame\n",
       "Columns: [Company Name, Address, City, State, Zip, Ten_Phone, SF Occupied, Location, # Emp, Submarket, Industry Type, SIC Description]\n",
       "Index: []"
      ]
     },
     "execution_count": 28,
     "metadata": {},
     "output_type": "execute_result"
    }
   ],
   "source": [
    "df = df[df['CoStar pull'].isnull()]\n",
    "print(df.shape)\n",
    "match = costar[((costar['Address'] +' '+ costar['City'].map(str).str.upper())).isin(df['Full Address'])]\n",
    "master = master.append(match)\n",
    "print('Tenant data from this region:\\n')\n",
    "match"
   ]
  },
  {
   "cell_type": "code",
   "execution_count": 29,
   "id": "c35004db",
   "metadata": {},
   "outputs": [
    {
     "data": {
      "text/plain": [
       "Series([], Name: CoStar pull, dtype: int64)"
      ]
     },
     "execution_count": 29,
     "metadata": {},
     "output_type": "execute_result"
    }
   ],
   "source": [
    "master_list = ((master['Address'] +' '+ master['City'].map(str)).str.upper()).tolist()\n",
    "df['CoStar pull'] = np.where(df['Full Address'].isin(master_list), 'Y', None)\n",
    "df['CoStar pull'].value_counts()"
   ]
  },
  {
   "cell_type": "code",
   "execution_count": null,
   "id": "b239ffa8",
   "metadata": {},
   "outputs": [],
   "source": []
  },
  {
   "cell_type": "code",
   "execution_count": null,
   "id": "304f5a81",
   "metadata": {},
   "outputs": [],
   "source": []
  }
 ],
 "metadata": {
  "kernelspec": {
   "display_name": "Python 3 (ipykernel)",
   "language": "python",
   "name": "python3"
  },
  "language_info": {
   "codemirror_mode": {
    "name": "ipython",
    "version": 3
   },
   "file_extension": ".py",
   "mimetype": "text/x-python",
   "name": "python",
   "nbconvert_exporter": "python",
   "pygments_lexer": "ipython3",
   "version": "3.9.12"
  }
 },
 "nbformat": 4,
 "nbformat_minor": 5
}
