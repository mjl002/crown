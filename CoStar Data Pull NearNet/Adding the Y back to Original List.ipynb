{
 "cells": [
  {
   "cell_type": "code",
   "execution_count": 1,
   "id": "0e36af3e",
   "metadata": {},
   "outputs": [],
   "source": [
    "import pandas as pd\n",
    "import numpy as np\n",
    "import warnings\n",
    "warnings.simplefilter(action='ignore', category=FutureWarning)"
   ]
  },
  {
   "cell_type": "code",
   "execution_count": 34,
   "id": "16e1700c",
   "metadata": {},
   "outputs": [],
   "source": [
    "df = pd.read_excel('experiment.xlsx')\n",
    "group = pd.read_excel('Group2.xlsx')"
   ]
  },
  {
   "cell_type": "code",
   "execution_count": 35,
   "id": "50fd9910",
   "metadata": {},
   "outputs": [
    {
     "data": {
      "text/plain": [
       "Y       383\n",
       "None     48\n",
       "Name: CoStar pull, dtype: int64"
      ]
     },
     "execution_count": 35,
     "metadata": {},
     "output_type": "execute_result"
    }
   ],
   "source": [
    "df['CoStar pull'].value_counts()"
   ]
  },
  {
   "cell_type": "code",
   "execution_count": 36,
   "id": "5844faf9",
   "metadata": {},
   "outputs": [],
   "source": [
    "df2 = df #df is the un-edited experiment.xlsx"
   ]
  },
  {
   "cell_type": "code",
   "execution_count": 37,
   "id": "42fef271",
   "metadata": {},
   "outputs": [],
   "source": [
    "df2['Full Address'] = df['Address'] +' '+ df['Zip']"
   ]
  },
  {
   "cell_type": "code",
   "execution_count": 38,
   "id": "edf09eb7",
   "metadata": {},
   "outputs": [],
   "source": [
    "group_list = (group['Address'] +' '+ group['Zip'].map(str)).tolist()"
   ]
  },
  {
   "cell_type": "code",
   "execution_count": 39,
   "id": "099f7012",
   "metadata": {},
   "outputs": [],
   "source": [
    "df2['CoStar pull2'] = np.where(df2['Full Address'].isin(group_list), 'Y', None)"
   ]
  },
  {
   "cell_type": "code",
   "execution_count": 42,
   "id": "f22b55a4",
   "metadata": {},
   "outputs": [
    {
     "data": {
      "text/plain": [
       "Y       383\n",
       "None     48\n",
       "Name: CoStar pull, dtype: int64"
      ]
     },
     "execution_count": 42,
     "metadata": {},
     "output_type": "execute_result"
    }
   ],
   "source": [
    "df2['CoStar pull'].value_counts()"
   ]
  },
  {
   "cell_type": "code",
   "execution_count": 48,
   "id": "e3275652",
   "metadata": {
    "scrolled": false
   },
   "outputs": [],
   "source": [
    "df2['CoStar pull'].fillna('', inplace=True)"
   ]
  },
  {
   "cell_type": "code",
   "execution_count": 50,
   "id": "4177147f",
   "metadata": {},
   "outputs": [],
   "source": [
    "df2['CoStar pull2'].fillna('', inplace=True)"
   ]
  },
  {
   "cell_type": "code",
   "execution_count": 53,
   "id": "3d1174ac",
   "metadata": {},
   "outputs": [
    {
     "data": {
      "text/plain": [
       "Y       627\n",
       "        475\n",
       "None     48\n",
       "dtype: int64"
      ]
     },
     "execution_count": 53,
     "metadata": {},
     "output_type": "execute_result"
    }
   ],
   "source": [
    "(df2['CoStar pull'] + df2['CoStar pull2']).value_counts()"
   ]
  },
  {
   "cell_type": "code",
   "execution_count": 54,
   "id": "50a7372e",
   "metadata": {},
   "outputs": [
    {
     "data": {
      "text/html": [
       "<div>\n",
       "<style scoped>\n",
       "    .dataframe tbody tr th:only-of-type {\n",
       "        vertical-align: middle;\n",
       "    }\n",
       "\n",
       "    .dataframe tbody tr th {\n",
       "        vertical-align: top;\n",
       "    }\n",
       "\n",
       "    .dataframe thead th {\n",
       "        text-align: right;\n",
       "    }\n",
       "</style>\n",
       "<table border=\"1\" class=\"dataframe\">\n",
       "  <thead>\n",
       "    <tr style=\"text-align: right;\">\n",
       "      <th></th>\n",
       "      <th>New Additions</th>\n",
       "      <th>Building Number</th>\n",
       "      <th>Building Status</th>\n",
       "      <th>Building Details</th>\n",
       "      <th>Number</th>\n",
       "      <th>Prefix</th>\n",
       "      <th>Street Name</th>\n",
       "      <th>Type</th>\n",
       "      <th>Suffix</th>\n",
       "      <th>Address</th>\n",
       "      <th>...</th>\n",
       "      <th>CBSA</th>\n",
       "      <th>Lata</th>\n",
       "      <th>CoStar pull</th>\n",
       "      <th>OSC Match</th>\n",
       "      <th>Zoom match</th>\n",
       "      <th>AE Owner</th>\n",
       "      <th>AE owner date</th>\n",
       "      <th>List Distributed?</th>\n",
       "      <th>Full Address</th>\n",
       "      <th>CoStar pull2</th>\n",
       "    </tr>\n",
       "  </thead>\n",
       "  <tbody>\n",
       "    <tr>\n",
       "      <th>0</th>\n",
       "      <td>Y</td>\n",
       "      <td>BLDG105081</td>\n",
       "      <td>ON-NET</td>\n",
       "      <td>Enterprise</td>\n",
       "      <td>12777</td>\n",
       "      <td>NaN</td>\n",
       "      <td>High Bluff</td>\n",
       "      <td>Dr</td>\n",
       "      <td>NaN</td>\n",
       "      <td>12777 High Bluff Dr</td>\n",
       "      <td>...</td>\n",
       "      <td>San Diego-Carlsbad, CA</td>\n",
       "      <td>732</td>\n",
       "      <td>Y</td>\n",
       "      <td>NaN</td>\n",
       "      <td>NaN</td>\n",
       "      <td>NaN</td>\n",
       "      <td>NaT</td>\n",
       "      <td>NaT</td>\n",
       "      <td>12777 High Bluff Dr 92130</td>\n",
       "      <td></td>\n",
       "    </tr>\n",
       "    <tr>\n",
       "      <th>1</th>\n",
       "      <td>Y</td>\n",
       "      <td>BLDG168311</td>\n",
       "      <td>ON-NET</td>\n",
       "      <td>Enterprise</td>\n",
       "      <td>2001</td>\n",
       "      <td>E</td>\n",
       "      <td>4th</td>\n",
       "      <td>St</td>\n",
       "      <td>NaN</td>\n",
       "      <td>2001 E 4th St</td>\n",
       "      <td>...</td>\n",
       "      <td>Los Angeles-Long Beach-Anaheim, CA</td>\n",
       "      <td>730</td>\n",
       "      <td>Y</td>\n",
       "      <td>Y</td>\n",
       "      <td>Y</td>\n",
       "      <td>David Ko</td>\n",
       "      <td>2022-05-01</td>\n",
       "      <td>2022-05-01</td>\n",
       "      <td>2001 E 4th St 92705</td>\n",
       "      <td></td>\n",
       "    </tr>\n",
       "    <tr>\n",
       "      <th>2</th>\n",
       "      <td>Y</td>\n",
       "      <td>BLDG150026</td>\n",
       "      <td>ON-NET</td>\n",
       "      <td>Enterprise</td>\n",
       "      <td>2227</td>\n",
       "      <td>NaN</td>\n",
       "      <td>Enterprise</td>\n",
       "      <td>St</td>\n",
       "      <td>NaN</td>\n",
       "      <td>2227 Enterprise St</td>\n",
       "      <td>...</td>\n",
       "      <td>San Diego-Carlsbad, CA</td>\n",
       "      <td>732</td>\n",
       "      <td>Y</td>\n",
       "      <td>NaN</td>\n",
       "      <td>NaN</td>\n",
       "      <td>NaN</td>\n",
       "      <td>NaT</td>\n",
       "      <td>NaT</td>\n",
       "      <td>2227 Enterprise St 92029</td>\n",
       "      <td></td>\n",
       "    </tr>\n",
       "    <tr>\n",
       "      <th>3</th>\n",
       "      <td>Y</td>\n",
       "      <td>BLDG169091</td>\n",
       "      <td>ON-NET</td>\n",
       "      <td>Enterprise</td>\n",
       "      <td>29315</td>\n",
       "      <td>NaN</td>\n",
       "      <td>Central</td>\n",
       "      <td>Ave</td>\n",
       "      <td>NaN</td>\n",
       "      <td>29315 Central Ave</td>\n",
       "      <td>...</td>\n",
       "      <td>Riverside-San Bernardino-Ontario, CA</td>\n",
       "      <td>730</td>\n",
       "      <td>Y</td>\n",
       "      <td>NaN</td>\n",
       "      <td>NaN</td>\n",
       "      <td>NaN</td>\n",
       "      <td>NaT</td>\n",
       "      <td>NaT</td>\n",
       "      <td>29315 Central Ave 92532</td>\n",
       "      <td></td>\n",
       "    </tr>\n",
       "    <tr>\n",
       "      <th>4</th>\n",
       "      <td>Y</td>\n",
       "      <td>BLDG167417</td>\n",
       "      <td>ON-NET</td>\n",
       "      <td>Enterprise</td>\n",
       "      <td>300</td>\n",
       "      <td>NaN</td>\n",
       "      <td>Sill</td>\n",
       "      <td>Rd</td>\n",
       "      <td>NaN</td>\n",
       "      <td>300 Sill Rd</td>\n",
       "      <td>...</td>\n",
       "      <td>Santa Cruz-Watsonville, CA</td>\n",
       "      <td>722</td>\n",
       "      <td>None</td>\n",
       "      <td>NaN</td>\n",
       "      <td>NaN</td>\n",
       "      <td>NaN</td>\n",
       "      <td>NaT</td>\n",
       "      <td>NaT</td>\n",
       "      <td>300 Sill Rd 95076</td>\n",
       "      <td></td>\n",
       "    </tr>\n",
       "    <tr>\n",
       "      <th>...</th>\n",
       "      <td>...</td>\n",
       "      <td>...</td>\n",
       "      <td>...</td>\n",
       "      <td>...</td>\n",
       "      <td>...</td>\n",
       "      <td>...</td>\n",
       "      <td>...</td>\n",
       "      <td>...</td>\n",
       "      <td>...</td>\n",
       "      <td>...</td>\n",
       "      <td>...</td>\n",
       "      <td>...</td>\n",
       "      <td>...</td>\n",
       "      <td>...</td>\n",
       "      <td>...</td>\n",
       "      <td>...</td>\n",
       "      <td>...</td>\n",
       "      <td>...</td>\n",
       "      <td>...</td>\n",
       "      <td>...</td>\n",
       "      <td>...</td>\n",
       "    </tr>\n",
       "    <tr>\n",
       "      <th>1145</th>\n",
       "      <td>NaN</td>\n",
       "      <td>BLDG131308</td>\n",
       "      <td>ON-NET</td>\n",
       "      <td>Enterprise</td>\n",
       "      <td>99</td>\n",
       "      <td>NaN</td>\n",
       "      <td>Airport</td>\n",
       "      <td>Blvd</td>\n",
       "      <td>NaN</td>\n",
       "      <td>99 Airport Blvd</td>\n",
       "      <td>...</td>\n",
       "      <td>Santa Cruz-Watsonville, CA</td>\n",
       "      <td>722</td>\n",
       "      <td></td>\n",
       "      <td>NaN</td>\n",
       "      <td>NaN</td>\n",
       "      <td>NaN</td>\n",
       "      <td>NaT</td>\n",
       "      <td>NaT</td>\n",
       "      <td>99 Airport Blvd 95019</td>\n",
       "      <td></td>\n",
       "    </tr>\n",
       "    <tr>\n",
       "      <th>1146</th>\n",
       "      <td>NaN</td>\n",
       "      <td>BLDG102591</td>\n",
       "      <td>ON-NET</td>\n",
       "      <td>Enterprise</td>\n",
       "      <td>99</td>\n",
       "      <td>NaN</td>\n",
       "      <td>La Cienega</td>\n",
       "      <td>Blvd</td>\n",
       "      <td>NaN</td>\n",
       "      <td>99 La Cienega Blvd</td>\n",
       "      <td>...</td>\n",
       "      <td>Los Angeles-Long Beach-Anaheim, CA</td>\n",
       "      <td>730</td>\n",
       "      <td></td>\n",
       "      <td>NaN</td>\n",
       "      <td>NaN</td>\n",
       "      <td>NaN</td>\n",
       "      <td>NaT</td>\n",
       "      <td>NaT</td>\n",
       "      <td>99 La Cienega Blvd 90211</td>\n",
       "      <td></td>\n",
       "    </tr>\n",
       "    <tr>\n",
       "      <th>1147</th>\n",
       "      <td>NaN</td>\n",
       "      <td>BLDG153641</td>\n",
       "      <td>ON-NET</td>\n",
       "      <td>Enterprise</td>\n",
       "      <td>9900</td>\n",
       "      <td>S</td>\n",
       "      <td>Vermont</td>\n",
       "      <td>Ave</td>\n",
       "      <td>NaN</td>\n",
       "      <td>9900 S Vermont Ave</td>\n",
       "      <td>...</td>\n",
       "      <td>Los Angeles-Long Beach-Anaheim, CA</td>\n",
       "      <td>730</td>\n",
       "      <td></td>\n",
       "      <td>NaN</td>\n",
       "      <td>NaN</td>\n",
       "      <td>NaN</td>\n",
       "      <td>NaT</td>\n",
       "      <td>NaT</td>\n",
       "      <td>9900 S Vermont Ave 90044</td>\n",
       "      <td></td>\n",
       "    </tr>\n",
       "    <tr>\n",
       "      <th>1148</th>\n",
       "      <td>NaN</td>\n",
       "      <td>BLDG150070</td>\n",
       "      <td>ON-NET</td>\n",
       "      <td>Enterprise</td>\n",
       "      <td>9920</td>\n",
       "      <td>NaN</td>\n",
       "      <td>Freeman</td>\n",
       "      <td>Ave</td>\n",
       "      <td>NaN</td>\n",
       "      <td>9920 Freeman Ave</td>\n",
       "      <td>...</td>\n",
       "      <td>Los Angeles-Long Beach-Anaheim, CA</td>\n",
       "      <td>730</td>\n",
       "      <td></td>\n",
       "      <td>NaN</td>\n",
       "      <td>NaN</td>\n",
       "      <td>NaN</td>\n",
       "      <td>NaT</td>\n",
       "      <td>NaT</td>\n",
       "      <td>9920 Freeman Ave 90670</td>\n",
       "      <td></td>\n",
       "    </tr>\n",
       "    <tr>\n",
       "      <th>1149</th>\n",
       "      <td>NaN</td>\n",
       "      <td>BLDG138106</td>\n",
       "      <td>ON-NET</td>\n",
       "      <td>Enterprise</td>\n",
       "      <td>9955</td>\n",
       "      <td>NaN</td>\n",
       "      <td>Carmel Mountain</td>\n",
       "      <td>Rd</td>\n",
       "      <td>NaN</td>\n",
       "      <td>9955 Carmel Mountain Rd</td>\n",
       "      <td>...</td>\n",
       "      <td>San Diego-Carlsbad, CA</td>\n",
       "      <td>732</td>\n",
       "      <td></td>\n",
       "      <td>NaN</td>\n",
       "      <td>NaN</td>\n",
       "      <td>NaN</td>\n",
       "      <td>NaT</td>\n",
       "      <td>NaT</td>\n",
       "      <td>9955 Carmel Mountain Rd 92129</td>\n",
       "      <td></td>\n",
       "    </tr>\n",
       "  </tbody>\n",
       "</table>\n",
       "<p>1150 rows × 27 columns</p>\n",
       "</div>"
      ],
      "text/plain": [
       "     New Additions Building Number Building Status Building Details Number  \\\n",
       "0                Y      BLDG105081          ON-NET       Enterprise  12777   \n",
       "1                Y      BLDG168311          ON-NET       Enterprise   2001   \n",
       "2                Y      BLDG150026          ON-NET       Enterprise   2227   \n",
       "3                Y      BLDG169091          ON-NET       Enterprise  29315   \n",
       "4                Y      BLDG167417          ON-NET       Enterprise    300   \n",
       "...            ...             ...             ...              ...    ...   \n",
       "1145           NaN      BLDG131308          ON-NET       Enterprise     99   \n",
       "1146           NaN      BLDG102591          ON-NET       Enterprise     99   \n",
       "1147           NaN      BLDG153641          ON-NET       Enterprise   9900   \n",
       "1148           NaN      BLDG150070          ON-NET       Enterprise   9920   \n",
       "1149           NaN      BLDG138106          ON-NET       Enterprise   9955   \n",
       "\n",
       "     Prefix      Street Name  Type Suffix                  Address  ...  \\\n",
       "0       NaN       High Bluff    Dr    NaN      12777 High Bluff Dr  ...   \n",
       "1         E              4th    St    NaN            2001 E 4th St  ...   \n",
       "2       NaN       Enterprise    St    NaN       2227 Enterprise St  ...   \n",
       "3       NaN          Central   Ave    NaN        29315 Central Ave  ...   \n",
       "4       NaN             Sill    Rd    NaN              300 Sill Rd  ...   \n",
       "...     ...              ...   ...    ...                      ...  ...   \n",
       "1145    NaN          Airport  Blvd    NaN          99 Airport Blvd  ...   \n",
       "1146    NaN       La Cienega  Blvd    NaN       99 La Cienega Blvd  ...   \n",
       "1147      S          Vermont   Ave    NaN       9900 S Vermont Ave  ...   \n",
       "1148    NaN          Freeman   Ave    NaN         9920 Freeman Ave  ...   \n",
       "1149    NaN  Carmel Mountain    Rd    NaN  9955 Carmel Mountain Rd  ...   \n",
       "\n",
       "                                      CBSA Lata CoStar pull OSC Match  \\\n",
       "0                   San Diego-Carlsbad, CA  732           Y       NaN   \n",
       "1       Los Angeles-Long Beach-Anaheim, CA  730           Y         Y   \n",
       "2                   San Diego-Carlsbad, CA  732           Y       NaN   \n",
       "3     Riverside-San Bernardino-Ontario, CA  730           Y       NaN   \n",
       "4               Santa Cruz-Watsonville, CA  722        None       NaN   \n",
       "...                                    ...  ...         ...       ...   \n",
       "1145            Santa Cruz-Watsonville, CA  722                   NaN   \n",
       "1146    Los Angeles-Long Beach-Anaheim, CA  730                   NaN   \n",
       "1147    Los Angeles-Long Beach-Anaheim, CA  730                   NaN   \n",
       "1148    Los Angeles-Long Beach-Anaheim, CA  730                   NaN   \n",
       "1149                San Diego-Carlsbad, CA  732                   NaN   \n",
       "\n",
       "      Zoom match  AE Owner AE owner date List Distributed?  \\\n",
       "0            NaN       NaN           NaT               NaT   \n",
       "1              Y  David Ko    2022-05-01        2022-05-01   \n",
       "2            NaN       NaN           NaT               NaT   \n",
       "3            NaN       NaN           NaT               NaT   \n",
       "4            NaN       NaN           NaT               NaT   \n",
       "...          ...       ...           ...               ...   \n",
       "1145         NaN       NaN           NaT               NaT   \n",
       "1146         NaN       NaN           NaT               NaT   \n",
       "1147         NaN       NaN           NaT               NaT   \n",
       "1148         NaN       NaN           NaT               NaT   \n",
       "1149         NaN       NaN           NaT               NaT   \n",
       "\n",
       "                       Full Address CoStar pull2  \n",
       "0         12777 High Bluff Dr 92130               \n",
       "1               2001 E 4th St 92705               \n",
       "2          2227 Enterprise St 92029               \n",
       "3           29315 Central Ave 92532               \n",
       "4                 300 Sill Rd 95076               \n",
       "...                             ...          ...  \n",
       "1145          99 Airport Blvd 95019               \n",
       "1146       99 La Cienega Blvd 90211               \n",
       "1147       9900 S Vermont Ave 90044               \n",
       "1148         9920 Freeman Ave 90670               \n",
       "1149  9955 Carmel Mountain Rd 92129               \n",
       "\n",
       "[1150 rows x 27 columns]"
      ]
     },
     "execution_count": 54,
     "metadata": {},
     "output_type": "execute_result"
    }
   ],
   "source": [
    "df"
   ]
  },
  {
   "cell_type": "code",
   "execution_count": 55,
   "id": "a4fd99aa",
   "metadata": {},
   "outputs": [],
   "source": [
    "df['CoStar pull'] = df2['CoStar pull'] + df2['CoStar pull2']"
   ]
  },
  {
   "cell_type": "code",
   "execution_count": 67,
   "id": "595453d0",
   "metadata": {},
   "outputs": [
    {
     "data": {
      "text/plain": [
       "Y       627\n",
       "        475\n",
       "None     48\n",
       "Name: CoStar pull, dtype: int64"
      ]
     },
     "execution_count": 67,
     "metadata": {},
     "output_type": "execute_result"
    }
   ],
   "source": [
    "df['CoStar pull'].value_counts()"
   ]
  },
  {
   "cell_type": "code",
   "execution_count": 60,
   "id": "28250f16",
   "metadata": {},
   "outputs": [],
   "source": [
    "df = df.drop(columns = ['CoStar pull2'])"
   ]
  },
  {
   "cell_type": "code",
   "execution_count": 65,
   "id": "4e88a1f6",
   "metadata": {},
   "outputs": [],
   "source": [
    "df = df.drop(columns = ['Full Address'])"
   ]
  },
  {
   "cell_type": "code",
   "execution_count": 68,
   "id": "5f9a284e",
   "metadata": {},
   "outputs": [
    {
     "data": {
      "text/plain": [
       "(1150, 25)"
      ]
     },
     "execution_count": 68,
     "metadata": {},
     "output_type": "execute_result"
    }
   ],
   "source": [
    "df.shape"
   ]
  },
  {
   "cell_type": "code",
   "execution_count": 70,
   "id": "ba8a80b3",
   "metadata": {},
   "outputs": [],
   "source": [
    "df.to_excel(\"Updated OnNet.xlsx\")"
   ]
  },
  {
   "cell_type": "code",
   "execution_count": null,
   "id": "333b0756",
   "metadata": {},
   "outputs": [],
   "source": []
  }
 ],
 "metadata": {
  "kernelspec": {
   "display_name": "Python 3 (ipykernel)",
   "language": "python",
   "name": "python3"
  },
  "language_info": {
   "codemirror_mode": {
    "name": "ipython",
    "version": 3
   },
   "file_extension": ".py",
   "mimetype": "text/x-python",
   "name": "python",
   "nbconvert_exporter": "python",
   "pygments_lexer": "ipython3",
   "version": "3.9.12"
  }
 },
 "nbformat": 4,
 "nbformat_minor": 5
}
