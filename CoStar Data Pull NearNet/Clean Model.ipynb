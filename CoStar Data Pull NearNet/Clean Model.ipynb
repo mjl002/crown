{
 "cells": [
  {
   "cell_type": "code",
   "execution_count": 125,
   "id": "a5d4495f",
   "metadata": {},
   "outputs": [],
   "source": [
    "import pandas as pd\n",
    "import numpy as np\n",
    "import warnings\n",
    "warnings.simplefilter(action='ignore', category=FutureWarning)"
   ]
  },
  {
   "cell_type": "markdown",
   "id": "9571eb13",
   "metadata": {},
   "source": [
    "__We first create an empty 'master' spreadsheet, which will become our 'Group of 300 Buildings'. The 'df' represents the list of On-Net buildings. RUN THIS ONLY ONCE__"
   ]
  },
  {
   "cell_type": "code",
   "execution_count": 126,
   "id": "fc4631f5",
   "metadata": {},
   "outputs": [],
   "source": [
    "master = pd.DataFrame(columns = ['Company Name','Address','City','State','Zip','Ten_Phone',\n",
    "                                 'SF Occupied','Location','# Emp','Submarket','Industry Type'])\n",
    "\n",
    "df = pd.read_excel('experiment.xlsx')"
   ]
  },
  {
   "cell_type": "markdown",
   "id": "95745974",
   "metadata": {},
   "source": [
    "__We make a new column in 'df' that combines the buildings' Address and Zip code into one category called 'Full Address'. This is to avoid the possibility of recording buildings with the same Address name but different zips.__"
   ]
  },
  {
   "cell_type": "code",
   "execution_count": 127,
   "id": "63a689c4",
   "metadata": {},
   "outputs": [],
   "source": [
    "df['Full Address'] = df['Address'] +' '+ df['Zip']"
   ]
  },
  {
   "cell_type": "markdown",
   "id": "1a7b819f",
   "metadata": {},
   "source": [
    "# Insert Costar Screenshot - RESTART HERE"
   ]
  },
  {
   "cell_type": "markdown",
   "id": "9b801324",
   "metadata": {},
   "source": [
    "__Next we want to take our spreadsheet of 500 tenants from Costar and call it 'costar'.__"
   ]
  },
  {
   "cell_type": "code",
   "execution_count": 386,
   "id": "63105b34",
   "metadata": {},
   "outputs": [
    {
     "data": {
      "text/plain": [
       "0          6555 Barton Ave 90038\n",
       "1          6555 Barton Ave 90038\n",
       "2          6555 Barton Ave 90038\n",
       "3          6555 Barton Ave 90038\n",
       "4          6555 Barton Ave 90038\n",
       "                 ...            \n",
       "485    6815 Willoughby Ave 90038\n",
       "486    6815 Willoughby Ave 90038\n",
       "487    6815 Willoughby Ave 90038\n",
       "488    6815 Willoughby Ave 90038\n",
       "489    6865 Willoughby Ave 90038\n",
       "Length: 487, dtype: object"
      ]
     },
     "execution_count": 386,
     "metadata": {},
     "output_type": "execute_result"
    }
   ],
   "source": [
    "costar = pd.read_excel('a9.xlsx')\n",
    "costar = costar.dropna(subset=['Zip'])\n",
    "costar['Zip'] = costar['Zip'].astype(int)\n",
    "costar['Address'] +' '+ costar['Zip'].map(str)"
   ]
  },
  {
   "cell_type": "markdown",
   "id": "6c800874",
   "metadata": {},
   "source": [
    "# Function Start"
   ]
  },
  {
   "cell_type": "markdown",
   "id": "2ae6ec2d",
   "metadata": {},
   "source": [
    "__This shows us how large the On-Net data is before we start matching with our Costar screenshot.__"
   ]
  },
  {
   "cell_type": "code",
   "execution_count": 387,
   "id": "da648ffd",
   "metadata": {
    "scrolled": false
   },
   "outputs": [
    {
     "data": {
      "text/plain": [
       "(688, 26)"
      ]
     },
     "execution_count": 387,
     "metadata": {},
     "output_type": "execute_result"
    }
   ],
   "source": [
    "df.shape #started today at 719 buildings remaining"
   ]
  },
  {
   "cell_type": "markdown",
   "id": "5a68d2b6",
   "metadata": {},
   "source": [
    "__Now we will find the buildings on 'costar' that have matching 'Full Address' with the On-Net buildings. If the buildings match, they are copied into a new table called 'match', which will be displayed below. Afterwards, we will attach this table to the 'master' table, where everything is stored.__"
   ]
  },
  {
   "cell_type": "code",
   "execution_count": 388,
   "id": "8fd1cf2d",
   "metadata": {
    "scrolled": false
   },
   "outputs": [
    {
     "name": "stdout",
     "output_type": "stream",
     "text": [
      "(684, 26)\n",
      "Tenant data from this region:\n",
      "\n"
     ]
    },
    {
     "data": {
      "text/html": [
       "<div>\n",
       "<style scoped>\n",
       "    .dataframe tbody tr th:only-of-type {\n",
       "        vertical-align: middle;\n",
       "    }\n",
       "\n",
       "    .dataframe tbody tr th {\n",
       "        vertical-align: top;\n",
       "    }\n",
       "\n",
       "    .dataframe thead th {\n",
       "        text-align: right;\n",
       "    }\n",
       "</style>\n",
       "<table border=\"1\" class=\"dataframe\">\n",
       "  <thead>\n",
       "    <tr style=\"text-align: right;\">\n",
       "      <th></th>\n",
       "      <th>Company Name</th>\n",
       "      <th>Address</th>\n",
       "      <th>City</th>\n",
       "      <th>State</th>\n",
       "      <th>Zip</th>\n",
       "      <th>Ten_Phone</th>\n",
       "      <th>SF Occupied</th>\n",
       "      <th>Location</th>\n",
       "      <th># Emp</th>\n",
       "      <th>Submarket</th>\n",
       "      <th>Industry Type</th>\n",
       "    </tr>\n",
       "  </thead>\n",
       "  <tbody>\n",
       "  </tbody>\n",
       "</table>\n",
       "</div>"
      ],
      "text/plain": [
       "Empty DataFrame\n",
       "Columns: [Company Name, Address, City, State, Zip, Ten_Phone, SF Occupied, Location, # Emp, Submarket, Industry Type]\n",
       "Index: []"
      ]
     },
     "execution_count": 388,
     "metadata": {},
     "output_type": "execute_result"
    }
   ],
   "source": [
    "df = df[df['CoStar pull'].isnull()]\n",
    "print(df.shape)\n",
    "match = costar[(costar['Address'] +' '+ costar['Zip'].map(str)).isin(df['Full Address'])]\n",
    "master = master.append(match)\n",
    "print('Tenant data from this region:\\n')\n",
    "match"
   ]
  },
  {
   "cell_type": "markdown",
   "id": "5c56258a",
   "metadata": {},
   "source": [
    "__Now we will go into our list of On-Net buildings and see which Addresses have already been added to the 'master' table. If it has been added, then we will insert a \"Y\" into the column called 'CoStar pull'.__"
   ]
  },
  {
   "cell_type": "code",
   "execution_count": 389,
   "id": "6b2d3736",
   "metadata": {},
   "outputs": [
    {
     "name": "stderr",
     "output_type": "stream",
     "text": [
      "C:\\Users\\melee\\AppData\\Local\\Temp\\ipykernel_51796\\2869060846.py:2: SettingWithCopyWarning: \n",
      "A value is trying to be set on a copy of a slice from a DataFrame.\n",
      "Try using .loc[row_indexer,col_indexer] = value instead\n",
      "\n",
      "See the caveats in the documentation: https://pandas.pydata.org/pandas-docs/stable/user_guide/indexing.html#returning-a-view-versus-a-copy\n",
      "  df['CoStar pull'] = np.where(df['Full Address'].isin(master_list), 'Y', None)\n"
     ]
    }
   ],
   "source": [
    "master_list = (master['Address'] +' '+ master['Zip'].map(str)).tolist()\n",
    "df['CoStar pull'] = np.where(df['Full Address'].isin(master_list), 'Y', None)"
   ]
  },
  {
   "cell_type": "markdown",
   "id": "d4eef105",
   "metadata": {},
   "source": [
    "__This lets us see how many of our On-Net buildings were marked with a 'Y'.__"
   ]
  },
  {
   "cell_type": "code",
   "execution_count": 390,
   "id": "1790205d",
   "metadata": {},
   "outputs": [
    {
     "data": {
      "text/plain": [
       "Series([], Name: CoStar pull, dtype: int64)"
      ]
     },
     "execution_count": 390,
     "metadata": {},
     "output_type": "execute_result"
    }
   ],
   "source": [
    "df['CoStar pull'].value_counts()"
   ]
  },
  {
   "cell_type": "markdown",
   "id": "08f8a089",
   "metadata": {},
   "source": [
    "__After each Costar screenshot, we can see our resulting 'master' table with all the added matches.__"
   ]
  },
  {
   "cell_type": "code",
   "execution_count": 391,
   "id": "67de1b2c",
   "metadata": {
    "scrolled": true
   },
   "outputs": [
    {
     "name": "stdout",
     "output_type": "stream",
     "text": [
      "(299, 11)\n"
     ]
    },
    {
     "data": {
      "text/html": [
       "<div>\n",
       "<style scoped>\n",
       "    .dataframe tbody tr th:only-of-type {\n",
       "        vertical-align: middle;\n",
       "    }\n",
       "\n",
       "    .dataframe tbody tr th {\n",
       "        vertical-align: top;\n",
       "    }\n",
       "\n",
       "    .dataframe thead th {\n",
       "        text-align: right;\n",
       "    }\n",
       "</style>\n",
       "<table border=\"1\" class=\"dataframe\">\n",
       "  <thead>\n",
       "    <tr style=\"text-align: right;\">\n",
       "      <th></th>\n",
       "      <th>Company Name</th>\n",
       "      <th>Address</th>\n",
       "      <th>City</th>\n",
       "      <th>State</th>\n",
       "      <th>Zip</th>\n",
       "      <th>Ten_Phone</th>\n",
       "      <th>SF Occupied</th>\n",
       "      <th>Location</th>\n",
       "      <th># Emp</th>\n",
       "      <th>Submarket</th>\n",
       "      <th>Industry Type</th>\n",
       "    </tr>\n",
       "  </thead>\n",
       "  <tbody>\n",
       "    <tr>\n",
       "      <th>449</th>\n",
       "      <td>bitMAX</td>\n",
       "      <td>959 Seward St</td>\n",
       "      <td>Los Angeles</td>\n",
       "      <td>CA</td>\n",
       "      <td>90038</td>\n",
       "      <td>(323) 978-7878</td>\n",
       "      <td>4001</td>\n",
       "      <td>Main HQ Corp/LLC</td>\n",
       "      <td>34</td>\n",
       "      <td>Hollywood</td>\n",
       "      <td>Manufacturing</td>\n",
       "    </tr>\n",
       "    <tr>\n",
       "      <th>450</th>\n",
       "      <td>Formosa Group</td>\n",
       "      <td>959 Seward St</td>\n",
       "      <td>Los Angeles</td>\n",
       "      <td>CA</td>\n",
       "      <td>90038</td>\n",
       "      <td>(323) 850-2800</td>\n",
       "      <td>4745</td>\n",
       "      <td>Main HQ Corp/LLC</td>\n",
       "      <td>24</td>\n",
       "      <td>Hollywood</td>\n",
       "      <td>Professional, Scientific, and Technical Services</td>\n",
       "    </tr>\n",
       "    <tr>\n",
       "      <th>451</th>\n",
       "      <td>Kinberg Genre</td>\n",
       "      <td>959 Seward St</td>\n",
       "      <td>Los Angeles</td>\n",
       "      <td>CA</td>\n",
       "      <td>90038</td>\n",
       "      <td>NaN</td>\n",
       "      <td>5194</td>\n",
       "      <td>Single Location Corp/LLC</td>\n",
       "      <td>0</td>\n",
       "      <td>Hollywood</td>\n",
       "      <td>Information</td>\n",
       "    </tr>\n",
       "    <tr>\n",
       "      <th>452</th>\n",
       "      <td>Bogaard Group International, Inc.</td>\n",
       "      <td>959 Seward St</td>\n",
       "      <td>Los Angeles</td>\n",
       "      <td>CA</td>\n",
       "      <td>90038</td>\n",
       "      <td>(213) 314-3044</td>\n",
       "      <td>7500</td>\n",
       "      <td>Main HQ Corp/LLC</td>\n",
       "      <td>30</td>\n",
       "      <td>Hollywood</td>\n",
       "      <td>Professional, Scientific, and Technical Services</td>\n",
       "    </tr>\n",
       "    <tr>\n",
       "      <th>453</th>\n",
       "      <td>Mainstay Entertainment</td>\n",
       "      <td>959 Seward St</td>\n",
       "      <td>Los Angeles</td>\n",
       "      <td>CA</td>\n",
       "      <td>90038</td>\n",
       "      <td>(310) 860-2880</td>\n",
       "      <td>7500</td>\n",
       "      <td>Single Location Corp/LLC</td>\n",
       "      <td>19</td>\n",
       "      <td>Hollywood</td>\n",
       "      <td>Professional, Scientific, and Technical Services</td>\n",
       "    </tr>\n",
       "  </tbody>\n",
       "</table>\n",
       "</div>"
      ],
      "text/plain": [
       "                          Company Name        Address         City State  \\\n",
       "449                             bitMAX  959 Seward St  Los Angeles    CA   \n",
       "450                      Formosa Group  959 Seward St  Los Angeles    CA   \n",
       "451                      Kinberg Genre  959 Seward St  Los Angeles    CA   \n",
       "452  Bogaard Group International, Inc.  959 Seward St  Los Angeles    CA   \n",
       "453             Mainstay Entertainment  959 Seward St  Los Angeles    CA   \n",
       "\n",
       "       Zip       Ten_Phone SF Occupied                  Location # Emp  \\\n",
       "449  90038  (323) 978-7878        4001          Main HQ Corp/LLC    34   \n",
       "450  90038  (323) 850-2800        4745          Main HQ Corp/LLC    24   \n",
       "451  90038             NaN        5194  Single Location Corp/LLC     0   \n",
       "452  90038  (213) 314-3044        7500          Main HQ Corp/LLC    30   \n",
       "453  90038  (310) 860-2880        7500  Single Location Corp/LLC    19   \n",
       "\n",
       "     Submarket                                     Industry Type  \n",
       "449  Hollywood                                     Manufacturing  \n",
       "450  Hollywood  Professional, Scientific, and Technical Services  \n",
       "451  Hollywood                                       Information  \n",
       "452  Hollywood  Professional, Scientific, and Technical Services  \n",
       "453  Hollywood  Professional, Scientific, and Technical Services  "
      ]
     },
     "execution_count": 391,
     "metadata": {},
     "output_type": "execute_result"
    }
   ],
   "source": [
    "print(master.shape)\n",
    "master.tail() #299 tenants 35 buildings"
   ]
  },
  {
   "cell_type": "code",
   "execution_count": 703,
   "id": "025d040b",
   "metadata": {},
   "outputs": [],
   "source": [
    "master.to_excel(\"Group2.xlsx\") "
   ]
  },
  {
   "cell_type": "code",
   "execution_count": 704,
   "id": "52483e9a",
   "metadata": {},
   "outputs": [],
   "source": [
    "df.to_excel(\"checkpoint_df.xlsx\")"
   ]
  },
  {
   "cell_type": "markdown",
   "id": "6d26d558",
   "metadata": {},
   "source": [
    "__Load saved previous work for On-Net list and master dataframe__"
   ]
  },
  {
   "cell_type": "code",
   "execution_count": 572,
   "id": "b56c43c6",
   "metadata": {},
   "outputs": [],
   "source": [
    "df = pd.read_excel('checkpoint_df.xlsx').drop(columns='Unnamed: 0')\n",
    "master = pd.read_excel('Group2.xlsx').drop(columns='Unnamed: 0')"
   ]
  },
  {
   "cell_type": "markdown",
   "id": "d58719b9",
   "metadata": {},
   "source": [
    "__Insert Costar__"
   ]
  },
  {
   "cell_type": "code",
   "execution_count": 705,
   "id": "e7039dff",
   "metadata": {},
   "outputs": [
    {
     "data": {
      "text/plain": [
       "0         1705 E Compton Blvd 90221\n",
       "1      1210 N Long Beach Blvd 90221\n",
       "2       623 S Long Beach Blvd 90221\n",
       "3            321 E Johnson St 90221\n",
       "4         1710 E Compton Blvd 90221\n",
       "                   ...             \n",
       "490       911 E Rosecrans Ave 90221\n",
       "491      1916 E Rosecrans Ave 90221\n",
       "492    425-477 E Compton Blvd 90221\n",
       "493          1842 N Bullis Rd 90221\n",
       "494       1600 E Compton Blvd 90221\n",
       "Length: 495, dtype: object"
      ]
     },
     "execution_count": 705,
     "metadata": {},
     "output_type": "execute_result"
    }
   ],
   "source": [
    "costar = pd.read_excel('b28.xlsx')\n",
    "costar = costar.dropna(subset=['Zip'])\n",
    "costar['Zip'] = costar['Zip'].astype(int)\n",
    "costar['Address'] +' '+ costar['Zip'].map(str)"
   ]
  },
  {
   "cell_type": "code",
   "execution_count": 706,
   "id": "fde99d4f",
   "metadata": {},
   "outputs": [
    {
     "name": "stdout",
     "output_type": "stream",
     "text": [
      "(475, 26)\n",
      "(475, 26)\n",
      "Tenant data from this region:\n",
      " Empty DataFrame\n",
      "Columns: [Company Name, Address, City, State, Zip, Ten_Phone, SF Occupied, Location, # Emp, Submarket, Industry Type]\n",
      "Index: []\n",
      "Number of Buildings: \n",
      " Series([], Name: CoStar pull, dtype: int64)\n",
      "Shape of Master table: \n",
      " (1893, 11)\n"
     ]
    },
    {
     "data": {
      "text/html": [
       "<div>\n",
       "<style scoped>\n",
       "    .dataframe tbody tr th:only-of-type {\n",
       "        vertical-align: middle;\n",
       "    }\n",
       "\n",
       "    .dataframe tbody tr th {\n",
       "        vertical-align: top;\n",
       "    }\n",
       "\n",
       "    .dataframe thead th {\n",
       "        text-align: right;\n",
       "    }\n",
       "</style>\n",
       "<table border=\"1\" class=\"dataframe\">\n",
       "  <thead>\n",
       "    <tr style=\"text-align: right;\">\n",
       "      <th></th>\n",
       "      <th>Company Name</th>\n",
       "      <th>Address</th>\n",
       "      <th>City</th>\n",
       "      <th>State</th>\n",
       "      <th>Zip</th>\n",
       "      <th>Ten_Phone</th>\n",
       "      <th>SF Occupied</th>\n",
       "      <th>Location</th>\n",
       "      <th># Emp</th>\n",
       "      <th>Submarket</th>\n",
       "      <th>Industry Type</th>\n",
       "    </tr>\n",
       "  </thead>\n",
       "  <tbody>\n",
       "    <tr>\n",
       "      <th>166</th>\n",
       "      <td>Royal Prestige</td>\n",
       "      <td>9040 Telegraph Rd</td>\n",
       "      <td>Downey</td>\n",
       "      <td>CA</td>\n",
       "      <td>90240</td>\n",
       "      <td>(562) 869-2395</td>\n",
       "      <td>750</td>\n",
       "      <td>Corporate Offic Corp/LLC</td>\n",
       "      <td>5</td>\n",
       "      <td>Southeast Los Angeles</td>\n",
       "      <td>Wholesaler</td>\n",
       "    </tr>\n",
       "    <tr>\n",
       "      <th>237</th>\n",
       "      <td>Pacifica Trucks</td>\n",
       "      <td>19067 S Reyes Ave</td>\n",
       "      <td>Rancho Dominguez</td>\n",
       "      <td>CA</td>\n",
       "      <td>90221</td>\n",
       "      <td>NaN</td>\n",
       "      <td>63450</td>\n",
       "      <td>NaN</td>\n",
       "      <td>0</td>\n",
       "      <td>Rancho Dominguez Ind</td>\n",
       "      <td>Transportation and Warehousing</td>\n",
       "    </tr>\n",
       "    <tr>\n",
       "      <th>255</th>\n",
       "      <td>Price Transfer Group</td>\n",
       "      <td>2790 E Del Amo Blvd</td>\n",
       "      <td>Compton</td>\n",
       "      <td>CA</td>\n",
       "      <td>90221</td>\n",
       "      <td>(310) 639-6074</td>\n",
       "      <td>92500</td>\n",
       "      <td>Main HQ Corp/LLC</td>\n",
       "      <td>50</td>\n",
       "      <td>Carson Ind</td>\n",
       "      <td>Transportation and Warehousing</td>\n",
       "    </tr>\n",
       "    <tr>\n",
       "      <th>261</th>\n",
       "      <td>Reyes Holdings</td>\n",
       "      <td>19067 S Reyes Ave</td>\n",
       "      <td>Rancho Dominguez</td>\n",
       "      <td>CA</td>\n",
       "      <td>90221</td>\n",
       "      <td>NaN</td>\n",
       "      <td>63450</td>\n",
       "      <td>Single Location</td>\n",
       "      <td>0</td>\n",
       "      <td>Rancho Dominguez Ind</td>\n",
       "      <td>Retailer</td>\n",
       "    </tr>\n",
       "    <tr>\n",
       "      <th>301</th>\n",
       "      <td>Tricap International LLC</td>\n",
       "      <td>3015 E Ana St</td>\n",
       "      <td>Compton</td>\n",
       "      <td>CA</td>\n",
       "      <td>90221</td>\n",
       "      <td>(310) 605-5089</td>\n",
       "      <td>213544</td>\n",
       "      <td>Warehouse Corp/LLC</td>\n",
       "      <td>0</td>\n",
       "      <td>Rancho Dominguez Ind</td>\n",
       "      <td>Professional, Scientific, and Technical Services</td>\n",
       "    </tr>\n",
       "  </tbody>\n",
       "</table>\n",
       "</div>"
      ],
      "text/plain": [
       "                 Company Name              Address              City State  \\\n",
       "166            Royal Prestige    9040 Telegraph Rd            Downey    CA   \n",
       "237           Pacifica Trucks    19067 S Reyes Ave  Rancho Dominguez    CA   \n",
       "255      Price Transfer Group  2790 E Del Amo Blvd           Compton    CA   \n",
       "261            Reyes Holdings    19067 S Reyes Ave  Rancho Dominguez    CA   \n",
       "301  Tricap International LLC        3015 E Ana St           Compton    CA   \n",
       "\n",
       "       Zip       Ten_Phone  SF Occupied                  Location  # Emp  \\\n",
       "166  90240  (562) 869-2395          750  Corporate Offic Corp/LLC      5   \n",
       "237  90221             NaN        63450                       NaN      0   \n",
       "255  90221  (310) 639-6074        92500          Main HQ Corp/LLC     50   \n",
       "261  90221             NaN        63450           Single Location      0   \n",
       "301  90221  (310) 605-5089       213544        Warehouse Corp/LLC      0   \n",
       "\n",
       "                 Submarket                                     Industry Type  \n",
       "166  Southeast Los Angeles                                        Wholesaler  \n",
       "237   Rancho Dominguez Ind                    Transportation and Warehousing  \n",
       "255             Carson Ind                    Transportation and Warehousing  \n",
       "261   Rancho Dominguez Ind                                          Retailer  \n",
       "301   Rancho Dominguez Ind  Professional, Scientific, and Technical Services  "
      ]
     },
     "execution_count": 706,
     "metadata": {},
     "output_type": "execute_result"
    }
   ],
   "source": [
    "print(df.shape) #started today at 684 buildings remaining\n",
    "df = df[df['CoStar pull'].isnull()]\n",
    "print(df.shape)\n",
    "\n",
    "match = costar[(costar['Address'] +' '+ costar['Zip'].map(str)).isin(df['Full Address'])]\n",
    "master = master.append(match)\n",
    "print('Tenant data from this region:\\n', match.head())\n",
    "\n",
    "master_list = (master['Address'] +' '+ master['Zip'].map(str)).tolist()\n",
    "df['CoStar pull'] = np.where(df['Full Address'].isin(master_list), 'Y', None)\n",
    "\n",
    "print('Number of Buildings: \\n', df['CoStar pull'].value_counts())\n",
    "\n",
    "print('Shape of Master table: \\n', master.shape)\n",
    "master.tail() #1893 tenants"
   ]
  },
  {
   "cell_type": "markdown",
   "id": "3fdca0d2",
   "metadata": {},
   "source": [
    "a78: 1 buildings, 56 tenants\n",
    "a79: 2 buildings, 14 tenants \n",
    "a80: 3 buildings, 43 tenants \n",
    "a81: 2 buildings, 100 tenants \n",
    "a82: 3 buildings, 14 tenants \n",
    "a83: 4 buildings, 34 tenants \n",
    "a85: 1 buildings, 11 tenants \n",
    "a87: 1 buildings, 1 tenants \n",
    "a88: 3 buildings, 4 tenants \n",
    "a89: 2 buildings, 23 tenants \n",
    "a90: 2 buildings, 29 tenants \n",
    "a91: 3 buildings, 36 tenants \n",
    "a93: 4 buildings, 39 tenants \n",
    "a96: 6 buildings, 60 tenants \n",
    "a98: 1 buildings, 1 tenants \n",
    "b2: 2 buildings, 6 tenants\n",
    "b3: 3 buildings, 23 tenants __43 bldg__\n",
    "b7: 2 buildings, 32 tenants\n",
    "b8: 2 buildings, 18 tenants\n",
    "b9: 2 buildings, 30 tenants\n",
    "b11: 2 buildings, 19 tenants\n",
    "b12: 3 buildings, 7 tenants\n",
    "b13: 2 buildings, 2 tenants\n",
    "b14: 3 buildings, 25 tenants\n",
    "b15: 3 buildings, 12 tenants\n",
    "b17: 1 buildings, 2 tenants\n",
    "b18: 2 buildings, 8 tenants\n",
    "b19: 4 buildings, 21 tenants\n",
    "b20: 1 buildings, 1 tenants\n",
    "b21: 1 buildings, 8 tenants\n",
    "b22: 1 buildings, 25 tenants\n",
    "b23: 3 buildings, 5 tenants\n",
    "b24: 1 buildings, 8 tenants\n",
    "b25: 1 buildings, 5 tenants\n",
    "b26: 2 buildings, 19 tenants\n",
    "b27: 3 buildings, 4 tenants __39 bldg__\n",
    "b28: 0 buildings, 0 tenants"
   ]
  },
  {
   "cell_type": "markdown",
   "id": "aa81be92",
   "metadata": {},
   "source": [
    "## Results\n",
    "92121f: 4 buildings, 10 tenants\n",
    "92121g: 1 buildings, 1 tenant\n",
    "92121h: 4 buildings, 20 tenants\n",
    "92121j: 3 buildings, 8 tenants\n",
    "92121j: 3 buildings, 19 tenants\n",
    "a0: 2 buildings, 2 tenants\n",
    "a1: 3 buildings, 10 tenants\n",
    "a2: 1 buildings, 51 tenants\n",
    "a4: 3 buildings, 20 tenants\n",
    "a6: 4 buildings, 68 tenants\n",
    "a8: 3 buildings, 75 tenants\n",
    "a9: 4 buildings, 15 tenants\n",
    "a10: 1 buildings, 7 tenants\n",
    "a11: 3 buildings, 6 tenants\n",
    "a12: 3 buildings, 11 tenants\n",
    "a13: 4 buildings, 16 tenants\n",
    "a14: 4 buildings, 32 tenants\n",
    "a15: 1 buildings, 6 tenants\n",
    "a18: 8 buildings, 23 tenants\n",
    "a19: 1 buildings, 1 tenants\n",
    "a20: 1 buildings, 41 tenants\n",
    "a21: 4 buildings, 19 tenants\n",
    "a23: 2 buildings, 39 tenants\n",
    "a24: 1 buildings, 21 tenants\n",
    "a25: 1 buildings, 14 tenants\n",
    "a26: 1 buildings, 27 tenants\n",
    "a28: 1 buildings, 1 tenants\n",
    "a29: 1 buildings, 22 tenants\n",
    "a30: 3 buildings, 69 tenants\n",
    "a31: 2 buildings, 69 tenants\n",
    "a32: 1 buildings, 14 tenants\n",
    "a33: 2 buildings, 22 tenants\n",
    "a34: 2 buildings, 16 tenants \n",
    "a37: 2 buildings, 7 tenants\n",
    "a38: 3 buildings, 10 tenants\n",
    "a39: 4 buildings, 23 tenants\n",
    "a40: 1 buildings, 2 tenants\n",
    "a42: 1 buildings, 1 tenants\n",
    "a43: 4 buildings, 11 tenants\n",
    "a44: 3 buildings, 16 tenants\n",
    "a45: 4 buildings, 22 tenants\n",
    "a46: 7 buildings, 36 tenants\n",
    "a48: 2 buildings, 8 tenants\n",
    "a49: 1 buildings, 1 tenants\n",
    "a50: 1 buildings, 1 tenants\n",
    "a51: 2 buildings, 3 tenants\n",
    "a52: 1 buildings, 1 tenants\n",
    "a54: 2 buildings, 4 tenants\n",
    "a55: 2 buildings, 4 tenants\n",
    "a56: 6 buildings, 145 tenants\n",
    "a57: 4 buildings, 44 tenants\n",
    "a58: 5 buildings, 7 tenants\n",
    "a59: 1 buildings, 1 tenants\n",
    "a60: 1 buildings, 3 tenants\n",
    "a62: 3 buildings, 22 tenants\n",
    "a63: 1 buildings, 2 tenants\n",
    "a65: 2 buildings, 2 tenants\n",
    "a68: 2 buildings, 14 tenants\n",
    "a70: 2 buildings, 12 tenants\n",
    "a71: 1 buildings, 1 tenants\n",
    "a72: 2 buildings, 22 tenants\n",
    "a73: 4 buildings, 20 tenants\n",
    "a74: 5 buildings, 18 tenants        __161 bldg__"
   ]
  },
  {
   "cell_type": "code",
   "execution_count": null,
   "id": "737d0e3f",
   "metadata": {},
   "outputs": [],
   "source": []
  }
 ],
 "metadata": {
  "kernelspec": {
   "display_name": "Python 3 (ipykernel)",
   "language": "python",
   "name": "python3"
  },
  "language_info": {
   "codemirror_mode": {
    "name": "ipython",
    "version": 3
   },
   "file_extension": ".py",
   "mimetype": "text/x-python",
   "name": "python",
   "nbconvert_exporter": "python",
   "pygments_lexer": "ipython3",
   "version": "3.9.12"
  }
 },
 "nbformat": 4,
 "nbformat_minor": 5
}
