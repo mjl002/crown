{
 "cells": [
  {
   "cell_type": "code",
   "execution_count": 1,
   "id": "c7e3dac0",
   "metadata": {},
   "outputs": [],
   "source": [
    "import pandas as pd\n",
    "import numpy as np\n",
    "import warnings\n",
    "warnings.simplefilter(action='ignore', category=FutureWarning)"
   ]
  },
  {
   "cell_type": "code",
   "execution_count": 3,
   "id": "d97d5a00",
   "metadata": {},
   "outputs": [],
   "source": [
    "df = pd.read_excel('One to One List.xlsx')\n",
    "df2 = pd.read_excel('SF - Contacts.xlsx')"
   ]
  },
  {
   "cell_type": "markdown",
   "id": "11d582bc",
   "metadata": {},
   "source": [
    "# SF Contact List"
   ]
  },
  {
   "cell_type": "code",
   "execution_count": 8,
   "id": "5b2225b2",
   "metadata": {},
   "outputs": [],
   "source": [
    "df2 = df2[['Name','Website','Description']]"
   ]
  },
  {
   "cell_type": "code",
   "execution_count": 25,
   "id": "8fe37fd8",
   "metadata": {
    "scrolled": false
   },
   "outputs": [],
   "source": [
    "#df2['Website'].replace({'http://www.':''}, regex=True)\n",
    "df2['Domain'] = df2['Website'].replace(['http://','https://','www.','/'], '', regex=True).dropna()"
   ]
  },
  {
   "cell_type": "code",
   "execution_count": 32,
   "id": "abc98fbb",
   "metadata": {},
   "outputs": [],
   "source": [
    "df2 = df2.dropna(subset = 'Website')"
   ]
  },
  {
   "cell_type": "code",
   "execution_count": 54,
   "id": "56776693",
   "metadata": {
    "scrolled": true
   },
   "outputs": [
    {
     "data": {
      "text/html": [
       "<div>\n",
       "<style scoped>\n",
       "    .dataframe tbody tr th:only-of-type {\n",
       "        vertical-align: middle;\n",
       "    }\n",
       "\n",
       "    .dataframe tbody tr th {\n",
       "        vertical-align: top;\n",
       "    }\n",
       "\n",
       "    .dataframe thead th {\n",
       "        text-align: right;\n",
       "    }\n",
       "</style>\n",
       "<table border=\"1\" class=\"dataframe\">\n",
       "  <thead>\n",
       "    <tr style=\"text-align: right;\">\n",
       "      <th></th>\n",
       "      <th>Domain</th>\n",
       "      <th>Description</th>\n",
       "    </tr>\n",
       "  </thead>\n",
       "  <tbody>\n",
       "    <tr>\n",
       "      <th>0</th>\n",
       "      <td>superleague.com</td>\n",
       "      <td>Fiber directly out front  Purchased Mobcrush J...</td>\n",
       "    </tr>\n",
       "    <tr>\n",
       "      <th>2</th>\n",
       "      <td>warnerbros.com</td>\n",
       "      <td>Owned by AT&amp;T  WB has its own DAS  Verizon for...</td>\n",
       "    </tr>\n",
       "    <tr>\n",
       "      <th>3</th>\n",
       "      <td>portal-a.com</td>\n",
       "      <td>Content Provider  FIBER IN BUILDING  HQ is in ...</td>\n",
       "    </tr>\n",
       "    <tr>\n",
       "      <th>4</th>\n",
       "      <td>pgecorp.com</td>\n",
       "      <td>No fiber near HQ  Assigned to me  Company uses...</td>\n",
       "    </tr>\n",
       "    <tr>\n",
       "      <th>5</th>\n",
       "      <td>versussystems.com</td>\n",
       "      <td>Advertising Company  Fiber - across the street...</td>\n",
       "    </tr>\n",
       "    <tr>\n",
       "      <th>...</th>\n",
       "      <td>...</td>\n",
       "      <td>...</td>\n",
       "    </tr>\n",
       "    <tr>\n",
       "      <th>855</th>\n",
       "      <td>summit-pcb.com</td>\n",
       "      <td>circuit board manufacturer - 154 employees  No...</td>\n",
       "    </tr>\n",
       "    <tr>\n",
       "      <th>857</th>\n",
       "      <td>uegworldwide.com</td>\n",
       "      <td>Entertainment agency  Not assigned  FIBER - IN</td>\n",
       "    </tr>\n",
       "    <tr>\n",
       "      <th>858</th>\n",
       "      <td>tapcheck.com</td>\n",
       "      <td>Fintech company - 71 employees  Not asigned  F...</td>\n",
       "    </tr>\n",
       "    <tr>\n",
       "      <th>859</th>\n",
       "      <td>crunchyroll.com</td>\n",
       "      <td>Sreaming company - 1269 employees  Not asigned...</td>\n",
       "    </tr>\n",
       "    <tr>\n",
       "      <th>860</th>\n",
       "      <td>keplerdx.com</td>\n",
       "      <td>Diagnostic company  Not assigned  Fiber - in f...</td>\n",
       "    </tr>\n",
       "  </tbody>\n",
       "</table>\n",
       "<p>840 rows × 2 columns</p>\n",
       "</div>"
      ],
      "text/plain": [
       "                Domain                                        Description\n",
       "0      superleague.com  Fiber directly out front  Purchased Mobcrush J...\n",
       "2       warnerbros.com  Owned by AT&T  WB has its own DAS  Verizon for...\n",
       "3         portal-a.com  Content Provider  FIBER IN BUILDING  HQ is in ...\n",
       "4          pgecorp.com  No fiber near HQ  Assigned to me  Company uses...\n",
       "5    versussystems.com  Advertising Company  Fiber - across the street...\n",
       "..                 ...                                                ...\n",
       "855     summit-pcb.com  circuit board manufacturer - 154 employees  No...\n",
       "857   uegworldwide.com     Entertainment agency  Not assigned  FIBER - IN\n",
       "858       tapcheck.com  Fintech company - 71 employees  Not asigned  F...\n",
       "859    crunchyroll.com  Sreaming company - 1269 employees  Not asigned...\n",
       "860       keplerdx.com  Diagnostic company  Not assigned  Fiber - in f...\n",
       "\n",
       "[840 rows x 2 columns]"
      ]
     },
     "execution_count": 54,
     "metadata": {},
     "output_type": "execute_result"
    }
   ],
   "source": [
    "df2 = df2[['Domain','Description']]\n",
    "df2"
   ]
  },
  {
   "cell_type": "markdown",
   "id": "5d78d556",
   "metadata": {},
   "source": [
    "# One to One list"
   ]
  },
  {
   "cell_type": "code",
   "execution_count": 36,
   "id": "82507831",
   "metadata": {
    "scrolled": false
   },
   "outputs": [
    {
     "data": {
      "text/html": [
       "<div>\n",
       "<style scoped>\n",
       "    .dataframe tbody tr th:only-of-type {\n",
       "        vertical-align: middle;\n",
       "    }\n",
       "\n",
       "    .dataframe tbody tr th {\n",
       "        vertical-align: top;\n",
       "    }\n",
       "\n",
       "    .dataframe thead th {\n",
       "        text-align: right;\n",
       "    }\n",
       "</style>\n",
       "<table border=\"1\" class=\"dataframe\">\n",
       "  <thead>\n",
       "    <tr style=\"text-align: right;\">\n",
       "      <th></th>\n",
       "      <th>First Name</th>\n",
       "      <th>Last Name</th>\n",
       "      <th>Company Name</th>\n",
       "      <th>Title</th>\n",
       "      <th>Phone 1 (Direct #)</th>\n",
       "      <th>Phone 2 (Company #)</th>\n",
       "      <th>Email</th>\n",
       "      <th>City</th>\n",
       "      <th>State</th>\n",
       "      <th>Industry</th>\n",
       "      <th>Company Website</th>\n",
       "      <th>CRM ID</th>\n",
       "      <th>Follow-up Teleprompt</th>\n",
       "    </tr>\n",
       "  </thead>\n",
       "  <tbody>\n",
       "    <tr>\n",
       "      <th>0</th>\n",
       "      <td>Vicky</td>\n",
       "      <td>Colf</td>\n",
       "      <td>vicky.colf@warnerbros.com</td>\n",
       "      <td>CTO</td>\n",
       "      <td>(714) 717-2885</td>\n",
       "      <td>(818) 977-2766</td>\n",
       "      <td>vicky.colf@warnerbros.com</td>\n",
       "      <td>Burbank</td>\n",
       "      <td>CA</td>\n",
       "      <td>NaN</td>\n",
       "      <td>NaN</td>\n",
       "      <td>NaN</td>\n",
       "      <td>NaN</td>\n",
       "    </tr>\n",
       "    <tr>\n",
       "      <th>1</th>\n",
       "      <td>Mika</td>\n",
       "      <td>Smith</td>\n",
       "      <td>mika@portal-a.com</td>\n",
       "      <td>Operations Manager</td>\n",
       "      <td>(916) 705-7199</td>\n",
       "      <td>NaN</td>\n",
       "      <td>mika@portal-a.com</td>\n",
       "      <td>Los Angeles</td>\n",
       "      <td>CA</td>\n",
       "      <td>NaN</td>\n",
       "      <td>NaN</td>\n",
       "      <td>NaN</td>\n",
       "      <td>NaN</td>\n",
       "    </tr>\n",
       "    <tr>\n",
       "      <th>2</th>\n",
       "      <td>Alex</td>\n",
       "      <td>Victor</td>\n",
       "      <td>axvz@pge.com</td>\n",
       "      <td>Sr. Director, Data Center Operations</td>\n",
       "      <td>NaN</td>\n",
       "      <td>(415) 973-0280</td>\n",
       "      <td>axvz@pge.com</td>\n",
       "      <td>San Francisco</td>\n",
       "      <td>CA</td>\n",
       "      <td>NaN</td>\n",
       "      <td>NaN</td>\n",
       "      <td>NaN</td>\n",
       "      <td>NaN</td>\n",
       "    </tr>\n",
       "    <tr>\n",
       "      <th>3</th>\n",
       "      <td>Alex</td>\n",
       "      <td>Peachey</td>\n",
       "      <td>alex@versussystems.com</td>\n",
       "      <td>CTO</td>\n",
       "      <td>NaN</td>\n",
       "      <td>(310) 871-5701</td>\n",
       "      <td>alex@versussystems.com</td>\n",
       "      <td>Los Angeles</td>\n",
       "      <td>CA</td>\n",
       "      <td>NaN</td>\n",
       "      <td>NaN</td>\n",
       "      <td>NaN</td>\n",
       "      <td>NaN</td>\n",
       "    </tr>\n",
       "    <tr>\n",
       "      <th>4</th>\n",
       "      <td>Connie</td>\n",
       "      <td>Tong-Try</td>\n",
       "      <td>connie@maplemedia.io</td>\n",
       "      <td>Operations Manager</td>\n",
       "      <td>NaN</td>\n",
       "      <td>(424) 335-0406</td>\n",
       "      <td>connie@maplemedia.io</td>\n",
       "      <td>Los Angeles</td>\n",
       "      <td>CA</td>\n",
       "      <td>NaN</td>\n",
       "      <td>NaN</td>\n",
       "      <td>NaN</td>\n",
       "      <td>NaN</td>\n",
       "    </tr>\n",
       "  </tbody>\n",
       "</table>\n",
       "</div>"
      ],
      "text/plain": [
       "  First Name Last Name               Company Name  \\\n",
       "0      Vicky      Colf  vicky.colf@warnerbros.com   \n",
       "1       Mika     Smith          mika@portal-a.com   \n",
       "2       Alex    Victor               axvz@pge.com   \n",
       "3       Alex   Peachey     alex@versussystems.com   \n",
       "4     Connie  Tong-Try       connie@maplemedia.io   \n",
       "\n",
       "                                  Title Phone 1 (Direct #)  \\\n",
       "0                                   CTO     (714) 717-2885   \n",
       "1                    Operations Manager     (916) 705-7199   \n",
       "2  Sr. Director, Data Center Operations                NaN   \n",
       "3                                   CTO                NaN   \n",
       "4                    Operations Manager                NaN   \n",
       "\n",
       "  Phone 2 (Company #)                      Email           City State  \\\n",
       "0      (818) 977-2766  vicky.colf@warnerbros.com        Burbank    CA   \n",
       "1                 NaN          mika@portal-a.com    Los Angeles    CA   \n",
       "2      (415) 973-0280               axvz@pge.com  San Francisco    CA   \n",
       "3      (310) 871-5701     alex@versussystems.com    Los Angeles    CA   \n",
       "4      (424) 335-0406       connie@maplemedia.io    Los Angeles    CA   \n",
       "\n",
       "   Industry  Company Website  CRM ID Follow-up Teleprompt  \n",
       "0       NaN              NaN     NaN                  NaN  \n",
       "1       NaN              NaN     NaN                  NaN  \n",
       "2       NaN              NaN     NaN                  NaN  \n",
       "3       NaN              NaN     NaN                  NaN  \n",
       "4       NaN              NaN     NaN                  NaN  "
      ]
     },
     "execution_count": 36,
     "metadata": {},
     "output_type": "execute_result"
    }
   ],
   "source": [
    "df.head()"
   ]
  },
  {
   "cell_type": "code",
   "execution_count": 47,
   "id": "19b79226",
   "metadata": {
    "scrolled": false
   },
   "outputs": [],
   "source": [
    "df['Domain'] = df['Company Name'].str.split('@').str[1]"
   ]
  },
  {
   "cell_type": "code",
   "execution_count": 60,
   "id": "8c614df7",
   "metadata": {},
   "outputs": [
    {
     "data": {
      "text/plain": [
       "(2309, 14)"
      ]
     },
     "execution_count": 60,
     "metadata": {},
     "output_type": "execute_result"
    }
   ],
   "source": [
    "df.shape"
   ]
  },
  {
   "cell_type": "code",
   "execution_count": 69,
   "id": "75d20a52",
   "metadata": {
    "scrolled": true
   },
   "outputs": [],
   "source": [
    "final = pd.merge(df, df2, how='left')"
   ]
  },
  {
   "cell_type": "code",
   "execution_count": 71,
   "id": "4701733f",
   "metadata": {},
   "outputs": [
    {
     "data": {
      "text/plain": [
       "(2332, 15)"
      ]
     },
     "execution_count": 71,
     "metadata": {},
     "output_type": "execute_result"
    }
   ],
   "source": [
    "final.shape"
   ]
  },
  {
   "cell_type": "code",
   "execution_count": 72,
   "id": "1c0c8c4e",
   "metadata": {},
   "outputs": [],
   "source": [
    "final.to_excel(\"Final.xlsx\") "
   ]
  },
  {
   "cell_type": "code",
   "execution_count": null,
   "id": "4841c480",
   "metadata": {},
   "outputs": [],
   "source": []
  }
 ],
 "metadata": {
  "kernelspec": {
   "display_name": "Python 3 (ipykernel)",
   "language": "python",
   "name": "python3"
  },
  "language_info": {
   "codemirror_mode": {
    "name": "ipython",
    "version": 3
   },
   "file_extension": ".py",
   "mimetype": "text/x-python",
   "name": "python",
   "nbconvert_exporter": "python",
   "pygments_lexer": "ipython3",
   "version": "3.9.12"
  }
 },
 "nbformat": 4,
 "nbformat_minor": 5
}
